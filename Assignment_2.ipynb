{
 "cells": [
  {
   "cell_type": "code",
   "execution_count": 2,
   "id": "5e4d4427",
   "metadata": {},
   "outputs": [
    {
     "data": {
      "text/plain": [
       "(True, False)"
      ]
     },
     "execution_count": 2,
     "metadata": {},
     "output_type": "execute_result"
    }
   ],
   "source": [
    "#1\n",
    "True,False"
   ]
  },
  {
   "cell_type": "code",
   "execution_count": null,
   "id": "38f2aa52",
   "metadata": {},
   "outputs": [],
   "source": [
    "#2\n",
    "AND,OR,NOT"
   ]
  },
  {
   "cell_type": "code",
   "execution_count": 7,
   "id": "5238a28b",
   "metadata": {},
   "outputs": [
    {
     "name": "stdout",
     "output_type": "stream",
     "text": [
      "False True False\n"
     ]
    }
   ],
   "source": [
    "print(True and False,True or False,not True)\n"
   ]
  },
  {
   "cell_type": "code",
   "execution_count": 10,
   "id": "2287cbc6",
   "metadata": {},
   "outputs": [
    {
     "name": "stdout",
     "output_type": "stream",
     "text": [
      "True and True - True\n",
      "True and False - False\n",
      "False and True - False\n",
      "False and False - False\n"
     ]
    }
   ],
   "source": [
    "#3 AND\n",
    "l=[True,False]\n",
    "n=[True,False]\n",
    "for i in l:\n",
    "    for j in n:\n",
    "        print(i,'and',j,'-',i and j)\n"
   ]
  },
  {
   "cell_type": "code",
   "execution_count": 11,
   "id": "6d6c5487",
   "metadata": {},
   "outputs": [
    {
     "name": "stdout",
     "output_type": "stream",
     "text": [
      "True OR True - True\n",
      "True OR False - True\n",
      "False OR True - True\n",
      "False OR False - False\n"
     ]
    }
   ],
   "source": [
    "#OR\n",
    "for i in l:\n",
    "    for j in n:\n",
    "        print(i,'OR',j,'-',i or j)\n"
   ]
  },
  {
   "cell_type": "code",
   "execution_count": 14,
   "id": "93632f28",
   "metadata": {},
   "outputs": [
    {
     "name": "stdout",
     "output_type": "stream",
     "text": [
      "NOT True - False\n",
      "NOT False - True\n"
     ]
    }
   ],
   "source": [
    "#NOT\n",
    "for i in l:\n",
    "    print('NOT',i,'-',not i)\n"
   ]
  },
  {
   "cell_type": "code",
   "execution_count": 16,
   "id": "500ce246",
   "metadata": {},
   "outputs": [
    {
     "name": "stdout",
     "output_type": "stream",
     "text": [
      "False\n",
      "False\n",
      "True\n",
      "False\n",
      "False\n",
      "True\n"
     ]
    }
   ],
   "source": [
    "#4\n",
    "print((5 > 4) and (3 == 5))\n",
    "print(not (5 > 4))\n",
    "print((5 > 4) or (3 == 5))\n",
    "print(not ((5 > 4) or (3 == 5)))\n",
    "print((True and True) and (True == False))\n",
    "print((not False) or (not True))"
   ]
  },
  {
   "cell_type": "code",
   "execution_count": null,
   "id": "26eecdb6",
   "metadata": {},
   "outputs": [],
   "source": [
    "#5\n",
    "> - Graterthan\n",
    "< - Lessthan\n",
    ">= - Graterthan equal\n",
    "<= - Less than equal\n",
    "!= - not equal\n",
    "== - equal"
   ]
  },
  {
   "cell_type": "code",
   "execution_count": null,
   "id": "9eebf101",
   "metadata": {},
   "outputs": [],
   "source": [
    "#6\n",
    "Equal to '==' is used when we compare two values in condition, it gives output in boolean\n",
    "eg. \n",
    "if a==5\n",
    "assignment operator '=','+=','-=' is used when we give the right value to the left variable.\n",
    "eg.\n",
    "a=5"
   ]
  },
  {
   "cell_type": "code",
   "execution_count": 18,
   "id": "04827beb",
   "metadata": {},
   "outputs": [
    {
     "name": "stdout",
     "output_type": "stream",
     "text": [
      "ham\n",
      "spam\n",
      "spam\n"
     ]
    }
   ],
   "source": [
    "#7\n",
    "spam = 0\n",
    "if spam == 10:\n",
    "    print('eggs')\n",
    "if spam > 5:\n",
    "    print('bacon')\n",
    "else:\n",
    "    print('ham')\n",
    "    print('spam')\n",
    "    print('spam')\n"
   ]
  },
  {
   "cell_type": "code",
   "execution_count": 4,
   "id": "a0e679ce",
   "metadata": {},
   "outputs": [
    {
     "name": "stdout",
     "output_type": "stream",
     "text": [
      "Greetings!\n"
     ]
    }
   ],
   "source": [
    "#8\n",
    "spam = 5\n",
    "if spam == 1:\n",
    "    print('hello')\n",
    "elif spam == 2:\n",
    "    print('howdy')\n",
    "else:\n",
    "    print('Greetings!')\n",
    "   \n"
   ]
  },
  {
   "cell_type": "code",
   "execution_count": 1,
   "id": "75f797c8",
   "metadata": {},
   "outputs": [
    {
     "name": "stdout",
     "output_type": "stream",
     "text": [
      "Hello\n"
     ]
    }
   ],
   "source": [
    "#9\n",
    "'we will use break'\n",
    "while True:\n",
    "    print('Hello')\n",
    "    break\n"
   ]
  },
  {
   "cell_type": "code",
   "execution_count": 3,
   "id": "8b5c9de1",
   "metadata": {},
   "outputs": [
    {
     "name": "stdout",
     "output_type": "stream",
     "text": [
      "0\n",
      "1\n",
      "2\n",
      "3\n",
      "4\n",
      "5\n"
     ]
    }
   ],
   "source": [
    "#10 break- it stops the loop\n",
    "for i in range(10):\n",
    "    if i != 6:\n",
    "        print(i)\n",
    "    else:\n",
    "        break"
   ]
  },
  {
   "cell_type": "code",
   "execution_count": 4,
   "id": "11baf345",
   "metadata": {},
   "outputs": [
    {
     "name": "stdout",
     "output_type": "stream",
     "text": [
      "0\n",
      "1\n",
      "2\n",
      "3\n",
      "4\n",
      "5\n",
      "7\n",
      "8\n",
      "9\n"
     ]
    }
   ],
   "source": [
    "#continue- it continue the loop by skipping the exucation part\n",
    "for i in range(10):\n",
    "    if i != 6:\n",
    "        print(i)\n",
    "    else:\n",
    "        continue"
   ]
  },
  {
   "cell_type": "code",
   "execution_count": null,
   "id": "df5123fb",
   "metadata": {},
   "outputs": [],
   "source": [
    "#11\n",
    "Their is no difference all three i.e range(10),range(0,10),range(0,10,1) are same."
   ]
  },
  {
   "cell_type": "code",
   "execution_count": 7,
   "id": "3f44fd84",
   "metadata": {},
   "outputs": [
    {
     "name": "stdout",
     "output_type": "stream",
     "text": [
      "1\n",
      "2\n",
      "3\n",
      "4\n",
      "5\n",
      "6\n",
      "7\n",
      "8\n",
      "9\n",
      "10\n"
     ]
    }
   ],
   "source": [
    "#12\n",
    "for i in range(1,11):\n",
    "    print(i)"
   ]
  },
  {
   "cell_type": "code",
   "execution_count": 10,
   "id": "fe474647",
   "metadata": {},
   "outputs": [
    {
     "name": "stdout",
     "output_type": "stream",
     "text": [
      "1\n",
      "2\n",
      "3\n",
      "4\n",
      "5\n",
      "6\n",
      "7\n",
      "8\n",
      "9\n",
      "10\n"
     ]
    }
   ],
   "source": [
    "i=1\n",
    "while i<=10:\n",
    "    print(i)\n",
    "    i+=1"
   ]
  },
  {
   "cell_type": "code",
   "execution_count": null,
   "id": "470daa0e",
   "metadata": {},
   "outputs": [],
   "source": [
    "#13\n",
    "spam.bacon()"
   ]
  }
 ],
 "metadata": {
  "kernelspec": {
   "display_name": "Python 3 (ipykernel)",
   "language": "python",
   "name": "python3"
  },
  "language_info": {
   "codemirror_mode": {
    "name": "ipython",
    "version": 3
   },
   "file_extension": ".py",
   "mimetype": "text/x-python",
   "name": "python",
   "nbconvert_exporter": "python",
   "pygments_lexer": "ipython3",
   "version": "3.9.7"
  }
 },
 "nbformat": 4,
 "nbformat_minor": 5
}
