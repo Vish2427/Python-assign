{
 "cells": [
  {
   "cell_type": "markdown",
   "id": "eac54b38",
   "metadata": {},
   "source": [
    "1.  *       mathematical operators\n",
    "    'hello'  values\n",
    "    -87.8    values\n",
    "    -        mathematical operators\n",
    "    /        mathematical operators\n",
    "    +        mathematical operators\n",
    "    6        values\n"
   ]
  },
  {
   "cell_type": "markdown",
   "id": "ff37daa0",
   "metadata": {},
   "source": [
    "2. String - It is text data type\n",
    "   Variables - it stores values\n",
    "  "
   ]
  },
  {
   "cell_type": "markdown",
   "id": "c25c1d2c",
   "metadata": {},
   "source": [
    "3. String - it is text data type contains alphabets, words, sentences and number in text form ('a','word','hello world','44')\n",
    "   integer - it is integer data type, takes number in form of integer (5,6,50)\n",
    "   bool - it is boolean data type (0,1)"
   ]
  },
  {
   "cell_type": "markdown",
   "id": "7a05006d",
   "metadata": {},
   "source": [
    "4. Expressions are made up of variable, values and methematical operators which returns some value\n",
    "    eg- c= a+b"
   ]
  },
  {
   "cell_type": "markdown",
   "id": "03214b58",
   "metadata": {},
   "source": [
    "5. Exprssions are made up of values and mathematical operators which returns values\n",
    "   Statements are just something represent action or commands"
   ]
  },
  {
   "cell_type": "code",
   "execution_count": 16,
   "id": "ee6269b0",
   "metadata": {},
   "outputs": [
    {
     "name": "stdout",
     "output_type": "stream",
     "text": [
      "22\n"
     ]
    }
   ],
   "source": [
    "#6\n",
    "bacon = 22\n",
    "bacon + 1\n",
    "print(bacon)"
   ]
  },
  {
   "cell_type": "code",
   "execution_count": 17,
   "id": "de880e30",
   "metadata": {},
   "outputs": [
    {
     "data": {
      "text/plain": [
       "'spamspamspam'"
      ]
     },
     "execution_count": 17,
     "metadata": {},
     "output_type": "execute_result"
    }
   ],
   "source": [
    "#7\n",
    "'spam' + 'spamspam'\n"
   ]
  },
  {
   "cell_type": "code",
   "execution_count": 19,
   "id": "bf0102fc",
   "metadata": {},
   "outputs": [
    {
     "data": {
      "text/plain": [
       "'spamspamspam'"
      ]
     },
     "execution_count": 19,
     "metadata": {},
     "output_type": "execute_result"
    }
   ],
   "source": [
    "#7\n",
    "'spam' * 3"
   ]
  },
  {
   "cell_type": "markdown",
   "id": "5ee51bc4",
   "metadata": {},
   "source": [
    "8. Variable name can start with alphabets and _ but, it cannot start with intger or any other special characters like @,#.\n",
    "   so Eggs is a valid variable name and 100 is not."
   ]
  },
  {
   "cell_type": "markdown",
   "id": "f37025ba",
   "metadata": {},
   "source": [
    "9. for integer - int()\n",
    "   for floating point no. - float()\n",
    "    for string - str()"
   ]
  },
  {
   "cell_type": "code",
   "execution_count": 21,
   "id": "c6efd0a1",
   "metadata": {},
   "outputs": [
    {
     "ename": "TypeError",
     "evalue": "can only concatenate str (not \"int\") to str",
     "output_type": "error",
     "traceback": [
      "\u001b[1;31m---------------------------------------------------------------------------\u001b[0m",
      "\u001b[1;31mTypeError\u001b[0m                                 Traceback (most recent call last)",
      "\u001b[1;32m~\\AppData\\Local\\Temp/ipykernel_13200/3890157244.py\u001b[0m in \u001b[0;36m<module>\u001b[1;34m\u001b[0m\n\u001b[0;32m      1\u001b[0m \u001b[1;31m#10\u001b[0m\u001b[1;33m\u001b[0m\u001b[1;33m\u001b[0m\u001b[0m\n\u001b[1;32m----> 2\u001b[1;33m \u001b[1;34m'I have eaten '\u001b[0m \u001b[1;33m+\u001b[0m \u001b[1;36m99\u001b[0m \u001b[1;33m+\u001b[0m \u001b[1;34m' burritos.'\u001b[0m\u001b[1;33m\u001b[0m\u001b[1;33m\u001b[0m\u001b[0m\n\u001b[0m",
      "\u001b[1;31mTypeError\u001b[0m: can only concatenate str (not \"int\") to str"
     ]
    }
   ],
   "source": [
    "#10\n",
    "'I have eaten ' + 99 + ' burritos.'"
   ]
  },
  {
   "cell_type": "markdown",
   "id": "7990c24c",
   "metadata": {},
   "source": [
    "It has error because wee cannot concatinate two different data types.\n",
    "it can be solved by making integer value to string"
   ]
  },
  {
   "cell_type": "code",
   "execution_count": 23,
   "id": "96a43911",
   "metadata": {},
   "outputs": [
    {
     "data": {
      "text/plain": [
       "'I have eaten 99 burritos.'"
      ]
     },
     "execution_count": 23,
     "metadata": {},
     "output_type": "execute_result"
    }
   ],
   "source": [
    "'I have eaten ' + str(99) + ' burritos.'"
   ]
  },
  {
   "cell_type": "code",
   "execution_count": null,
   "id": "ec32f206",
   "metadata": {},
   "outputs": [],
   "source": []
  }
 ],
 "metadata": {
  "kernelspec": {
   "display_name": "Python 3 (ipykernel)",
   "language": "python",
   "name": "python3"
  },
  "language_info": {
   "codemirror_mode": {
    "name": "ipython",
    "version": 3
   },
   "file_extension": ".py",
   "mimetype": "text/x-python",
   "name": "python",
   "nbconvert_exporter": "python",
   "pygments_lexer": "ipython3",
   "version": "3.9.7"
  }
 },
 "nbformat": 4,
 "nbformat_minor": 5
}
